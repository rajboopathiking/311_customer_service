{
 "cells": [
  {
   "cell_type": "code",
   "execution_count": 1,
   "id": "d7944c5f",
   "metadata": {},
   "outputs": [],
   "source": [
    "import streamlit as st"
   ]
  },
  {
   "cell_type": "code",
   "execution_count": 3,
   "id": "077d9aa8",
   "metadata": {},
   "outputs": [],
   "source": [
    "# Header\n",
    "st.title('My Portfolio')\n",
    "\n",
    "# Introduction\n",
    "st.write('Welcome to my portfolio. Here you can explore my projects and achievements.')\n",
    "\n",
    "# Project 1\n",
    "st.subheader('Project 1')\n",
    "st.write('Description of Project 1')\n",
    "# st.image('', caption='Project 1')\n",
    "\n",
    "# Project 2\n",
    "st.subheader('Project 2')\n",
    "st.write('Description of Project 2')\n",
    "# st.image('path/to/project2_image.jpg', caption='Project 2')\n",
    "\n",
    "# Additional sections and projects\n",
    "# ...\n",
    "\n",
    "# Footer\n",
    "st.write('Contact me for more information or collaboration opportunities.')"
   ]
  }
 ],
 "metadata": {
  "kernelspec": {
   "display_name": "Python 3",
   "language": "python",
   "name": "python3"
  },
  "language_info": {
   "codemirror_mode": {
    "name": "ipython",
    "version": 3
   },
   "file_extension": ".py",
   "mimetype": "text/x-python",
   "name": "python",
   "nbconvert_exporter": "python",
   "pygments_lexer": "ipython3",
   "version": "3.8.10"
  }
 },
 "nbformat": 4,
 "nbformat_minor": 5
}
